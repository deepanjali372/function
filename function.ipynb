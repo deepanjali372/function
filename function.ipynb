{
  "nbformat": 4,
  "nbformat_minor": 0,
  "metadata": {
    "colab": {
      "provenance": []
    },
    "kernelspec": {
      "name": "python3",
      "display_name": "Python 3"
    },
    "language_info": {
      "name": "python"
    }
  },
  "cells": [
    {
      "cell_type": "markdown",
      "source": [
        "**function**"
      ],
      "metadata": {
        "id": "cZvSz7pG2m0j"
      }
    },
    {
      "cell_type": "markdown",
      "source": [
        "1.What is the difference between a function and a method in Python?\n",
        "\n",
        "| Feature        | Function                             | Method                                       |\n",
        "| -------------- | ------------------------------------ | -------------------------------------------- |\n",
        "| Definition     | A block of code that performs a task | A function that is associated with an object |\n",
        "| Syntax         | `def my_function():`                 | `object.method()`                            |\n",
        "| Object binding | Independent                          | Bound to an object                           |\n",
        "\n",
        "\n",
        "2. Explain the concept of function arguments and parameters in Python.\n",
        "\n",
        "- Parameters: Variables defined in the function definition.\n",
        "\n",
        "- Arguments: Actual values passed to the function when called.\n",
        "\n",
        "\n",
        "3. What are the different ways to define and call a function in Python?\n",
        "\n",
        ">You can define functions using:\n",
        "\n",
        "- Basic def keyword\n",
        "\n",
        "- Default arguments\n",
        "\n",
        "- Variable-length arguments\n",
        "\n",
        "\n",
        "4. What is the purpose of the return statement in a Python function?\n",
        "\n",
        ">return exits the function and optionally passes a result back to the caller.\n",
        "\n",
        "5. What are iterators in Python and how do they differ from iterables?\n",
        "\n",
        "- Iterable: An object that can be looped over (e.g., list, tuple, string).\n",
        "\n",
        "- Iterator: An object with a __next__() method that returns items one at a time.\n",
        "\n",
        "\n",
        "6. Explain the concept of generators in Python and how they are defined.\n",
        "\n",
        ">A generator is a function that yields items one by one using the yield keyword instead of return.\n",
        "\n",
        "\n",
        "7. What are the advantages of using generators over regular functions?\n",
        "\n",
        ">Benefits of Generators:\n",
        "\n",
        "- Memory-efficient: Do not store entire data in memory.\n",
        "\n",
        "- Lazy evaluation: Only generate data when needed.\n",
        "\n",
        "- Can model infinite sequences.\n",
        "\n",
        "- Simpler syntax for iteration logic.\n",
        "\n",
        "\n",
        "8. What is a lambda function in Python and when is it typically used?\n",
        "\n",
        ">A lambda function is an anonymous function.\n",
        "\n",
        "- It is used when a short function is needed for a short time.\n",
        "\n",
        "\n",
        "9. Explain the purpose and usage of the map() function in Python.\n",
        "\n",
        ">map() applies a function to every item of an iterable and returns a new map object.\n",
        "\n",
        "\n",
        "10. What is the difference between map(), reduce(), and filter() functions in Python?\n",
        "\n",
        "| Function   | Purpose                            | Example                          |\n",
        "| ---------- | ---------------------------------- | -------------------------------- |\n",
        "| `map()`    | Applies a function to all elements | `map(lambda x: x*x,)`       |\n",
        "| `filter()` | Filters elements by condition      | `filter(lambda x:x%2==0, list)` |\n",
        "| `reduce()` | Aggregates to a single result      | `reduce(lambda x,y:x+y, list)`  |\n"
      ],
      "metadata": {
        "id": "DdOtl9fs22mz"
      }
    },
    {
      "cell_type": "markdown",
      "source": [
        "**practical questions**"
      ],
      "metadata": {
        "id": "NDBGbERUDwkT"
      }
    },
    {
      "cell_type": "code",
      "source": [
        "print(sum_of_evens([1, 2, 3, 4, 5, 6]))"
      ],
      "metadata": {
        "colab": {
          "base_uri": "https://localhost:8080/"
        },
        "id": "ml7xamEpDs4C",
        "outputId": "75f94b11-df30-4c51-a2b9-0b24ab1aa8f9"
      },
      "execution_count": 17,
      "outputs": [
        {
          "output_type": "stream",
          "name": "stdout",
          "text": [
            "12\n"
          ]
        }
      ]
    },
    {
      "cell_type": "code",
      "source": [
        "def reverse_string(s):\n",
        "    return s[::-1]\n",
        "\n",
        "print(reverse_string(\"Python\"))\n"
      ],
      "metadata": {
        "colab": {
          "base_uri": "https://localhost:8080/"
        },
        "id": "1tG6BPnyGG-J",
        "outputId": "63665fda-100c-42b2-939e-113d9407a92e"
      },
      "execution_count": 40,
      "outputs": [
        {
          "output_type": "stream",
          "name": "stdout",
          "text": [
            "nohtyP\n"
          ]
        }
      ]
    },
    {
      "cell_type": "code",
      "source": [
        "def square_list(numbers):\n",
        "    result = []\n",
        "    for num in numbers:\n",
        "        result.append(num ** 2)\n",
        "    return result\n",
        "\n",
        "print(square_list([2, 4, 6]))\n"
      ],
      "metadata": {
        "colab": {
          "base_uri": "https://localhost:8080/"
        },
        "id": "zg584btXGXfi",
        "outputId": "c2d15e19-54c8-460b-c5fa-09104998d42e"
      },
      "execution_count": 42,
      "outputs": [
        {
          "output_type": "stream",
          "name": "stdout",
          "text": [
            "[4, 16, 36]\n"
          ]
        }
      ]
    },
    {
      "cell_type": "code",
      "source": [
        "def is_prime(n):\n",
        "    if n < 2:\n",
        "        return False\n",
        "    for i in range(2, int(n**0.5) + 1):\n",
        "        if n % i == 0:\n",
        "            return False\n",
        "    return True\n",
        "\n",
        "def primes_upto_200():\n",
        "    return [i for i in range(1, 201) if is_prime(i)]\n",
        "\n",
        "# Example\n",
        "print(primes_upto_200())\n"
      ],
      "metadata": {
        "colab": {
          "base_uri": "https://localhost:8080/"
        },
        "id": "nbUsjVtbIDMO",
        "outputId": "5ba16325-6eb2-4582-c493-62ac827e69ca"
      },
      "execution_count": 43,
      "outputs": [
        {
          "output_type": "stream",
          "name": "stdout",
          "text": [
            "[2, 3, 5, 7, 11, 13, 17, 19, 23, 29, 31, 37, 41, 43, 47, 53, 59, 61, 67, 71, 73, 79, 83, 89, 97, 101, 103, 107, 109, 113, 127, 131, 137, 139, 149, 151, 157, 163, 167, 173, 179, 181, 191, 193, 197, 199]\n"
          ]
        }
      ]
    },
    {
      "cell_type": "code",
      "source": [
        "class Fibonacci:\n",
        "    def __init__(self, terms):\n",
        "        self.terms = terms\n",
        "        self.a, self.b = 0, 1\n",
        "        self.count = 0\n",
        "\n",
        "    def __iter__(self):\n",
        "        return self\n",
        "\n",
        "    def __next__(self):\n",
        "        if self.count >= self.terms:\n",
        "            raise StopIteration\n",
        "        self.a, self.b = self.b, self.a + self.b\n",
        "        self.count += 1\n",
        "        return self.a\n",
        "\n",
        "# Example\n",
        "for num in Fibonacci(10):\n",
        "    print(num, end=\" \")\n"
      ],
      "metadata": {
        "colab": {
          "base_uri": "https://localhost:8080/"
        },
        "id": "RnvvzZ2TIIOX",
        "outputId": "51998a10-1d50-404c-ec85-5b33ae851afd"
      },
      "execution_count": 44,
      "outputs": [
        {
          "output_type": "stream",
          "name": "stdout",
          "text": [
            "1 1 2 3 5 8 13 21 34 55 "
          ]
        }
      ]
    },
    {
      "cell_type": "code",
      "source": [
        "def powers_of_two(exp):\n",
        "    for i in range(exp + 1):\n",
        "        yield 2 ** i\n",
        "\n",
        "# Example\n",
        "for val in powers_of_two(5):\n",
        "    print(val, end=\" \")\n"
      ],
      "metadata": {
        "colab": {
          "base_uri": "https://localhost:8080/"
        },
        "id": "z0zb5r8uIOUE",
        "outputId": "d53af85f-2431-45b9-c181-3f69de7a818b"
      },
      "execution_count": 45,
      "outputs": [
        {
          "output_type": "stream",
          "name": "stdout",
          "text": [
            "1 2 4 8 16 32 "
          ]
        }
      ]
    },
    {
      "cell_type": "code",
      "source": [
        "def read_file_lines(filepath):(\"data.txt\")\n",
        "    with open(filepath, 'r') as file:\n",
        "        for line in file:\n",
        "            yield line.strip()\n",
        "\n"
      ],
      "metadata": {
        "colab": {
          "base_uri": "https://localhost:8080/",
          "height": 106
        },
        "id": "FTeGZvumI4BB",
        "outputId": "60aaabc5-495e-4bac-b486-5411795c1e01"
      },
      "execution_count": 52,
      "outputs": [
        {
          "output_type": "error",
          "ename": "IndentationError",
          "evalue": "unexpected indent (ipython-input-52-1593160338.py, line 2)",
          "traceback": [
            "\u001b[0;36m  File \u001b[0;32m\"/tmp/ipython-input-52-1593160338.py\"\u001b[0;36m, line \u001b[0;32m2\u001b[0m\n\u001b[0;31m    with open(filepath, 'r') as file:\u001b[0m\n\u001b[0m    ^\u001b[0m\n\u001b[0;31mIndentationError\u001b[0m\u001b[0;31m:\u001b[0m unexpected indent\n"
          ]
        }
      ]
    },
    {
      "cell_type": "code",
      "source": [
        "sort_by_second = lambda lst: sorted(lst, key=lambda x: x[1])\n",
        "\n",
        "# Example\n",
        "print(sort_by_second([(1, 5), (3, 2), (2, 8)]))\n"
      ],
      "metadata": {
        "colab": {
          "base_uri": "https://localhost:8080/"
        },
        "id": "hK-n7oBOJEYl",
        "outputId": "dfeeea0d-f226-47a8-cd0d-e5d4d48816dc"
      },
      "execution_count": 53,
      "outputs": [
        {
          "output_type": "stream",
          "name": "stdout",
          "text": [
            "[(3, 2), (1, 5), (2, 8)]\n"
          ]
        }
      ]
    },
    {
      "cell_type": "code",
      "source": [
        "def celsius_to_fahrenheit(celsius_list):\n",
        "    return list(map(lambda c: (c * 9/5) + 32, celsius_list))\n",
        "\n",
        "# Example\n",
        "print(celsius_to_fahrenheit([0, 25, 100]))\n"
      ],
      "metadata": {
        "colab": {
          "base_uri": "https://localhost:8080/"
        },
        "id": "JEYSsSWnJI9w",
        "outputId": "cdd97eb8-db3b-4a81-e08f-f26780bca521"
      },
      "execution_count": 54,
      "outputs": [
        {
          "output_type": "stream",
          "name": "stdout",
          "text": [
            "[32.0, 77.0, 212.0]\n"
          ]
        }
      ]
    },
    {
      "cell_type": "code",
      "source": [
        "def remove_vowels(s):\n",
        "    return ''.join(filter(lambda x: x.lower() not in 'aeiou', s))\n",
        "\n",
        "# Example\n",
        "print(remove_vowels(\"Programming is fun\"))\n",
        "\n"
      ],
      "metadata": {
        "colab": {
          "base_uri": "https://localhost:8080/"
        },
        "id": "8e1IhqFLJNit",
        "outputId": "b0bd304d-059b-42b9-9163-3bd0e78bb48e"
      },
      "execution_count": 55,
      "outputs": [
        {
          "output_type": "stream",
          "name": "stdout",
          "text": [
            "Prgrmmng s fn\n"
          ]
        }
      ]
    }
  ]
}